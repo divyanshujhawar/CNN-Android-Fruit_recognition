{
 "cells": [
  {
   "cell_type": "code",
   "execution_count": 56,
   "metadata": {},
   "outputs": [],
   "source": [
    "import pandas as pd\n",
    "import numpy as np\n",
    "import os\n",
    "import sys\n",
    "import cv2\n",
    "import glob\n",
    "import matplotlib.pyplot as plt"
   ]
  },
  {
   "cell_type": "code",
   "execution_count": 27,
   "metadata": {},
   "outputs": [],
   "source": [
    "import tensorflow as tf\n",
    "from tensorflow import keras\n",
    "from tensorflow.keras import layers"
   ]
  },
  {
   "cell_type": "code",
   "execution_count": 31,
   "metadata": {},
   "outputs": [],
   "source": [
    "from tensorflow.keras.layers import Input, Conv2D, MaxPooling2D\n",
    "from tensorflow.keras.layers import Dense, Flatten\n",
    "from tensorflow.keras.models import Model"
   ]
  },
  {
   "cell_type": "code",
   "execution_count": 2,
   "metadata": {},
   "outputs": [],
   "source": [
    "train_data_path = \"./fruits/fruits-360/Training/\"\n",
    "test_data_path = \"./fruits/fruits-360/Test/\""
   ]
  },
  {
   "cell_type": "code",
   "execution_count": 8,
   "metadata": {},
   "outputs": [
    {
     "name": "stdout",
     "output_type": "stream",
     "text": [
      "Found 60486 images belonging to 120 classes.\n",
      "Found 20618 images belonging to 120 classes.\n"
     ]
    }
   ],
   "source": [
    "train_datagen = keras.preprocessing.image.ImageDataGenerator(\n",
    "    horizontal_flip=True,\n",
    "    rescale= 1.0/255)\n",
    "\n",
    "test_datagen = keras.preprocessing.image.ImageDataGenerator(\n",
    "    rescale= 1.0/255)\n",
    "\n",
    "train_generator = train_datagen.flow_from_directory(\n",
    "        train_data_path,\n",
    "        target_size=(100, 100),\n",
    "        batch_size=32,\n",
    "        class_mode='categorical',\n",
    "        shuffle=True)\n",
    "validation_generator = test_datagen.flow_from_directory(\n",
    "        test_data_path,\n",
    "        target_size=(100, 100),\n",
    "        batch_size=32,\n",
    "        class_mode='categorical')"
   ]
  },
  {
   "cell_type": "markdown",
   "metadata": {},
   "source": [
    "### Model"
   ]
  },
  {
   "cell_type": "code",
   "execution_count": 36,
   "metadata": {},
   "outputs": [
    {
     "name": "stdout",
     "output_type": "stream",
     "text": [
      "Model: \"sequential_5\"\n",
      "_________________________________________________________________\n",
      "Layer (type)                 Output Shape              Param #   \n",
      "=================================================================\n",
      "dense_1 (Dense)              (None, 100, 100, 1000)    4000      \n",
      "=================================================================\n",
      "Total params: 4,000\n",
      "Trainable params: 4,000\n",
      "Non-trainable params: 0\n",
      "_________________________________________________________________\n"
     ]
    }
   ],
   "source": [
    "#AlexNet model\n",
    "model = Sequential()\n",
    "model.add(Input(shape=(227, 227, 3)))\n",
    "\n",
    "#Layer1\n",
    "model.add(Conv2D(96,11, activation = 'relu',strides=4, padding = \"same\"))\n",
    "model.add(MaxPooling2D(3,strides=2, padding = \"same\"))\n",
    "#model.add(BatchNormalization())\n",
    "\n",
    "\n",
    "#Layer2\n",
    "model.add(ZeroPadding2D(padding=(2, 2)))\n",
    "model.add(Conv2D(256,5, activation = 'relu',strides=1, padding = \"valid\"))\n",
    "model.add(MaxPooling2D(3,strides=2, padding = \"same\"))\n",
    "#model.add(BatchNormalization())\n",
    "\n",
    "\n",
    "#Layer3\n",
    "model.add(ZeroPadding2D(padding=(1, 1)))\n",
    "model.add(Conv2D(384,3, activation = 'relu',strides=1, padding = \"valid\"))\n",
    "model.add(ZeroPadding2D(padding=(1, 1)))\n",
    "model.add(Conv2D(384,3, activation = 'relu',strides=1, padding = \"valid\"))\n",
    "model.add(ZeroPadding2D(padding=(1, 1)))\n",
    "model.add(Conv2D(256,3, activation = 'relu',strides=1, padding = \"valid\"))\n",
    "model.add(MaxPooling2D(3,strides=2, padding = \"same\"))\n",
    "model.add(Dropout(0.5))\n",
    "\n",
    "\n",
    "#Layer4\n",
    "model.add(Flatten())\n",
    "model.add(Dense(4096,activation='relu'))\n",
    "model.add(Dropout(0.5))\n",
    "\n",
    "#Layer5\n",
    "model.add(Dense(4096,activation='relu'))\n",
    "model.add(Dropout(0.5))\n",
    "\n",
    "#layer6\n",
    "model.add(Dense(120,activation='softmax'))\n",
    "\n",
    "model.summary()"
   ]
  }
 ],
 "metadata": {
  "kernelspec": {
   "display_name": "Python 3",
   "language": "python",
   "name": "python3"
  },
  "language_info": {
   "codemirror_mode": {
    "name": "ipython",
    "version": 3
   },
   "file_extension": ".py",
   "mimetype": "text/x-python",
   "name": "python",
   "nbconvert_exporter": "python",
   "pygments_lexer": "ipython3",
   "version": "3.7.1"
  }
 },
 "nbformat": 4,
 "nbformat_minor": 2
}
